{
  "nbformat": 4,
  "nbformat_minor": 0,
  "metadata": {
    "colab": {
      "provenance": []
    },
    "kernelspec": {
      "name": "python3",
      "display_name": "Python 3"
    },
    "language_info": {
      "name": "python"
    }
  },
  "cells": [
    {
      "cell_type": "markdown",
      "source": [
        "Etapa 1: Gerar PDFs com conteúdo"
      ],
      "metadata": {
        "id": "VjrfoV4I5J_k"
      }
    },
    {
      "cell_type": "code",
      "execution_count": null,
      "metadata": {
        "id": "xu7Mnem445DS"
      },
      "outputs": [],
      "source": [
        "from reportlab.pdfgen import canvas\n",
        "import os\n",
        "\n",
        "os.makedirs(\"pdfs\", exist_ok=True)\n",
        "\n",
        "texts = {\n",
        "    \"documento1.pdf\": \"Inteligência Artificial é o campo que estuda como criar máquinas que pensam.\",\n",
        "    \"documento2.pdf\": \"O Azure oferece serviços de IA como OpenAI, Search e mais.\",\n",
        "    \"documento3.pdf\": \"RAG combina recuperação de documentos com geração de linguagem natural.\"\n",
        "}\n",
        "\n",
        "for filename, content in texts.items():\n",
        "    c = canvas.Canvas(f\"pdfs/{filename}\")\n",
        "    c.drawString(100, 750, content)\n",
        "    c.save()\n"
      ]
    },
    {
      "cell_type": "markdown",
      "source": [
        "Etapa 2: Indexar os PDFs com RAG no Azure"
      ],
      "metadata": {
        "id": "jBL-Ws1B5Mrz"
      }
    },
    {
      "cell_type": "markdown",
      "source": [
        "2.1 Ler e converter os PDFs em texto"
      ],
      "metadata": {
        "id": "lwDCDR9V5Tl6"
      }
    },
    {
      "cell_type": "code",
      "source": [
        "import fitz  # PyMuPDF\n",
        "\n",
        "def extract_text_from_pdf(path):\n",
        "    doc = fitz.open(path)\n",
        "    text = \"\"\n",
        "    for page in doc:\n",
        "        text += page.get_text()\n",
        "    return text\n",
        "\n",
        "pdf_folder = \"pdfs\"\n",
        "docs = []\n",
        "\n",
        "for filename in os.listdir(pdf_folder):\n",
        "    if filename.endswith(\".pdf\"):\n",
        "        path = os.path.join(pdf_folder, filename)\n",
        "        content = extract_text_from_pdf(path)\n",
        "        docs.append({\n",
        "            \"id\": filename,\n",
        "            \"content\": content\n",
        "        })\n"
      ],
      "metadata": {
        "id": "BkQmafiU5EdE"
      },
      "execution_count": null,
      "outputs": []
    },
    {
      "cell_type": "markdown",
      "source": [
        "2.2 Indexar com Azure AI Search"
      ],
      "metadata": {
        "id": "E_eN2m055pH5"
      }
    },
    {
      "cell_type": "code",
      "source": [
        "from azure.search.documents.indexes import SearchIndexClient\n",
        "from azure.search.documents import SearchClient\n",
        "from azure.core.credentials import AzureKeyCredential\n",
        "from azure.search.documents.indexes.models import (\n",
        "    SearchIndex, SimpleField, SearchableField, VectorSearch, HnswAlgorithmConfiguration,\n",
        "    VectorSearchProfile, VectorField, SemanticSettings, SemanticConfiguration, PrioritizedFields\n",
        ")\n",
        "\n",
        "endpoint = \"https://<seu-endpoint>.search.windows.net\"\n",
        "key = \"<sua-chave>\"\n",
        "index_name = \"docs-index\"\n",
        "\n",
        "index_client = SearchIndexClient(endpoint=endpoint, credential=AzureKeyCredential(key))\n",
        "\n",
        "# Criar o índice\n",
        "fields = [\n",
        "    SimpleField(name=\"id\", type=\"Edm.String\", key=True),\n",
        "    SearchableField(name=\"content\", type=\"Edm.String\"),\n",
        "    VectorField(name=\"contentVector\", dimensions=1536, vector_search_configuration=\"default\")\n",
        "]\n",
        "\n",
        "index = SearchIndex(\n",
        "    name=index_name,\n",
        "    fields=fields,\n",
        "    vector_search=VectorSearch(\n",
        "        algorithms=[HnswAlgorithmConfiguration(name=\"default\")],\n",
        "        profiles=[VectorSearchProfile(name=\"default\", algorithm_configuration_name=\"default\")]\n",
        "    ),\n",
        "    semantic_settings=SemanticSettings(\n",
        "        configurations=[SemanticConfiguration(name=\"default\", prioritized_fields=PrioritizedFields(content_field=\"content\"))]\n",
        "    )\n",
        ")\n",
        "\n",
        "index_client.create_or_update_index(index=index)\n"
      ],
      "metadata": {
        "id": "LYnxNPf85THR"
      },
      "execution_count": null,
      "outputs": []
    },
    {
      "cell_type": "markdown",
      "source": [
        "2.3 Adicionar documentos vetorizados com o Azure OpenAI"
      ],
      "metadata": {
        "id": "LVox53yq5vH5"
      }
    },
    {
      "cell_type": "code",
      "source": [
        "from azure.search.documents import SearchClient\n",
        "from openai import AzureOpenAI\n",
        "\n",
        "search_client = SearchClient(endpoint, index_name, AzureKeyCredential(key))\n",
        "\n",
        "aoai = AzureOpenAI(\n",
        "    azure_endpoint=\"https://<seu-openai-endpoint>.openai.azure.com/\",\n",
        "    api_key=\"<sua-chave-openai>\",\n",
        "    api_version=\"2024-02-15-preview\"\n",
        ")\n",
        "\n",
        "def get_embedding(text):\n",
        "    response = aoai.embeddings.create(input=[text], model=\"text-embedding-ada-002\")\n",
        "    return response.data[0].embedding\n",
        "\n",
        "for doc in docs:\n",
        "    embedding = get_embedding(doc[\"content\"])\n",
        "    search_client.upload_documents([\n",
        "        {\n",
        "            \"id\": doc[\"id\"],\n",
        "            \"content\": doc[\"content\"],\n",
        "            \"contentVector\": embedding\n",
        "        }\n",
        "    ])\n"
      ],
      "metadata": {
        "id": "cQeOrcoT5spw"
      },
      "execution_count": null,
      "outputs": []
    },
    {
      "cell_type": "markdown",
      "source": [
        "Etapa 3: Consultar com RAG (LangChain + Azure)"
      ],
      "metadata": {
        "id": "wY4M5_a65xh_"
      }
    },
    {
      "cell_type": "code",
      "source": [
        "from langchain.chat_models import AzureChatOpenAI\n",
        "from langchain.chains import RetrievalQA\n",
        "from langchain.vectorstores.azuresearch import AzureSearch\n",
        "from langchain.embeddings import OpenAIEmbeddings\n",
        "\n",
        "retriever = AzureSearch(\n",
        "    azure_search_endpoint=endpoint,\n",
        "    azure_search_key=key,\n",
        "    index_name=index_name,\n",
        "    embedding_function=get_embedding\n",
        ")\n",
        "\n",
        "llm = AzureChatOpenAI(\n",
        "    openai_api_base=\"https://<seu-openai-endpoint>.openai.azure.com/\",\n",
        "    openai_api_version=\"2024-02-15-preview\",\n",
        "    deployment_name=\"gpt-35-turbo\",  # ou gpt-4\n",
        "    openai_api_key=\"<sua-chave-openai>\"\n",
        ")\n",
        "\n",
        "qa_chain = RetrievalQA.from_chain_type(llm=llm, retriever=retriever, return_source_documents=True)\n",
        "\n",
        "query = \"O que é RAG?\"\n",
        "result = qa_chain.run(query)\n",
        "\n",
        "print(\"Resposta:\", result)"
      ],
      "metadata": {
        "id": "57CfvR_f6CZl"
      },
      "execution_count": null,
      "outputs": []
    }
  ]
}